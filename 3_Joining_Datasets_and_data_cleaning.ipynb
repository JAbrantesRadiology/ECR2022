{
 "cells": [
  {
   "cell_type": "markdown",
   "id": "5e17a890",
   "metadata": {},
   "source": [
    "## Extracting the dataset\n",
    "Gathering the datasets resulting from the first and second scripts"
   ]
  },
  {
   "cell_type": "code",
   "execution_count": null,
   "id": "8c1a75fc",
   "metadata": {},
   "outputs": [],
   "source": [
    "import os\n",
    "import fnmatch\n",
    "import sys\n",
    "import shutil\n",
    "import re\n",
    "import pandas as pd\n",
    "from sklearn.metrics import *\n",
    "from scipy import stats\n",
    "import numpy as np"
   ]
  },
  {
   "cell_type": "code",
   "execution_count": null,
   "id": "99f5e724",
   "metadata": {},
   "outputs": [],
   "source": [
    "ai_densities = \"df_ai_densities.json\"\n",
    "radiologist_densities = \"df_radiologist.json\"\n",
    "density_values = {\"A\":1, \"B\":2, \"C\":3, \"D\":4}"
   ]
  },
  {
   "cell_type": "code",
   "execution_count": null,
   "id": "db81d411",
   "metadata": {},
   "outputs": [],
   "source": [
    "df_ai_densities = pd.read_json(ai_densities)\n",
    "df_ai_densities = df_ai_densities.replace(density_values)\n",
    "\n",
    "df_radiologist_densities = pd.read_json(radiologist_densities)\n",
    "df_radiologist_densities = df_radiologist_densities.replace(density_values)\n",
    "\n",
    "full_df= df_radiologist_densities.merge(df_ai_densities,how='inner', left_on='process', right_index=True)\n",
    "full_df.drop(columns=[\"process\"],inplace= True)"
   ]
  },
  {
   "cell_type": "markdown",
   "id": "6758d505",
   "metadata": {},
   "source": [
    "## Final output - Full dataset for comparison and evaluation of metrics"
   ]
  },
  {
   "cell_type": "code",
   "execution_count": null,
   "id": "c4edadfa",
   "metadata": {},
   "outputs": [],
   "source": [
    "full_df.to_json(r'full_df.json')"
   ]
  }
 ],
 "metadata": {
  "kernelspec": {
   "display_name": "Python 3",
   "language": "python",
   "name": "python3"
  },
  "language_info": {
   "codemirror_mode": {
    "name": "ipython",
    "version": 3
   },
   "file_extension": ".py",
   "mimetype": "text/x-python",
   "name": "python",
   "nbconvert_exporter": "python",
   "pygments_lexer": "ipython3",
   "version": "3.8.8"
  }
 },
 "nbformat": 4,
 "nbformat_minor": 5
}
