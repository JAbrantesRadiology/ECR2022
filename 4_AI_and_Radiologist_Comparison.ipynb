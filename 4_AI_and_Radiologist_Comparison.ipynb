{
 "cells": [
  {
   "cell_type": "markdown",
   "id": "5e17a890",
   "metadata": {},
   "source": [
    "## AI and Radiologist Comparison\n",
    "Final script for metric extraction and performance evaluation"
   ]
  },
  {
   "cell_type": "code",
   "execution_count": 1,
   "id": "8c1a75fc",
   "metadata": {},
   "outputs": [],
   "source": [
    "import os\n",
    "import fnmatch\n",
    "import sys\n",
    "import shutil\n",
    "import re\n",
    "import pandas as pd\n",
    "from sklearn.metrics import *\n",
    "from scipy import stats\n",
    "import numpy as np"
   ]
  },
  {
   "cell_type": "code",
   "execution_count": 2,
   "id": "db81d411",
   "metadata": {},
   "outputs": [],
   "source": [
    "df_load = \"full_df.json\"\n",
    "full_df = pd.read_json(df_load)\n",
    "full_df.reset_index(drop=True, inplace=True)"
   ]
  },
  {
   "cell_type": "markdown",
   "id": "554a9ee4",
   "metadata": {},
   "source": [
    "## Dataset"
   ]
  },
  {
   "cell_type": "code",
   "execution_count": 3,
   "id": "e30a69bc",
   "metadata": {},
   "outputs": [
    {
     "name": "stdout",
     "output_type": "stream",
     "text": [
      " A total of 839 unique patients and 3360 (MLO and CC) views were evaluted.\n"
     ]
    }
   ],
   "source": [
    "print(f\" A total of {full_df.shape[0]-1} unique patients and {full_df.shape[0]*4} (MLO and CC) views were evaluted.\")"
   ]
  },
  {
   "cell_type": "markdown",
   "id": "be598050",
   "metadata": {},
   "source": [
    "## Creating dichotomous variable (Non-dense vs Dense)"
   ]
  },
  {
   "cell_type": "code",
   "execution_count": 4,
   "id": "1b0e614d",
   "metadata": {},
   "outputs": [],
   "source": [
    "#create column for non-dense or dense breast \n",
    "def RAD_dense_non_dense(x):\n",
    "    if x['density'] <3 :\n",
    "        return 0\n",
    "    else:\n",
    "        return 1\n",
    "    \n",
    "def AI_dense_non_dense(x):\n",
    "    if x['aidensity'] <3 :\n",
    "        return 0\n",
    "    else:\n",
    "        return 1\n",
    "\n",
    "full_df['radiologist_2_densities']=full_df.apply(lambda x : RAD_dense_non_dense(x),axis=1)    \n",
    "full_df['ai_2_densities']=full_df.apply(lambda x : AI_dense_non_dense(x),axis=1)"
   ]
  },
  {
   "cell_type": "markdown",
   "id": "7475776d",
   "metadata": {},
   "source": [
    "## Computing metrics by Radiologist"
   ]
  },
  {
   "cell_type": "markdown",
   "id": "dbac12aa",
   "metadata": {},
   "source": [
    "### Non-dense vs dense category"
   ]
  },
  {
   "cell_type": "code",
   "execution_count": 5,
   "id": "2956f8cc",
   "metadata": {
    "scrolled": true
   },
   "outputs": [
    {
     "name": "stdout",
     "output_type": "stream",
     "text": [
      "Using 2 density scale: Annotations from Radiologist 0: Accuracy is :0.825938566552901 and cohen kappa is:0.6461268856418878.\n",
      "Using 2 density scale: Annotations from Radiologist 1: Accuracy is :0.780952380952381 and cohen kappa is:0.5291020766305937.\n",
      "Using 2 density scale: Annotations from Radiologist 2: Accuracy is :0.8351648351648352 and cohen kappa is:0.644808743169399.\n",
      "Using 2 density scale: Annotations from Radiologist 3: Accuracy is :0.8958333333333334 and cohen kappa is:0.7923875432525951.\n",
      "Using 2 density scale: Annotations from Radiologist 4: Accuracy is :0.7066666666666667 and cohen kappa is:0.4099767566601109.\n",
      "\n",
      "2 Density scale mean accuracy:0.8089111565340235 and 95% C.I. (0.7216179341957255, 0.8962043788723214).\n",
      "2 Density scale mean cohen kappa:0.6044804010709173 and 95% C.I. (0.426502410170061, 0.7824583919717736).\n",
      "2 Density scale - accuracy standard deviation:0.06288128814423585.\n"
     ]
    }
   ],
   "source": [
    "accuracy2=[]\n",
    "kappa2=[]\n",
    "for i in range(5):\n",
    "    new_df = full_df[full_df['radiologist']==i]\n",
    "    y_true = new_df[\"radiologist_2_densities\"]\n",
    "    y_pred = new_df[\"ai_2_densities\"]\n",
    "    accuracy2.append(accuracy_score(y_true, y_pred))\n",
    "    kappa2.append(cohen_kappa_score(y_true, y_pred))\n",
    "    print(f\"Using 2 density scale: Annotations from Radiologist {i}: Accuracy is :{accuracy_score(y_true, y_pred)} and cohen kappa is:{cohen_kappa_score(y_true, y_pred)}.\")\n",
    "\n",
    "accuracy2CI = stats.t.interval(alpha=0.95, loc=np.mean(accuracy2), df=len(accuracy2)-1, scale=stats.sem(accuracy2)) \n",
    "kappa2CI = stats.t.interval(alpha=0.95, loc=np.mean(kappa2), df=len(kappa2)-1, scale=stats.sem(kappa2)) \n",
    "\n",
    "\n",
    "print(f\"\\n2 Density scale mean accuracy:{np.mean(accuracy2)} and 95% C.I. {accuracy2CI}.\") \n",
    "print(f\"2 Density scale mean cohen kappa:{np.mean(kappa2)} and 95% C.I. {kappa2CI }.\")  \n",
    "print(f\"2 Density scale - accuracy standard deviation:{np.std(accuracy2)}.\") "
   ]
  },
  {
   "cell_type": "markdown",
   "id": "a25ada75",
   "metadata": {},
   "source": [
    "### Four BI-RADS density categories"
   ]
  },
  {
   "cell_type": "code",
   "execution_count": 6,
   "id": "62f5dd09",
   "metadata": {},
   "outputs": [
    {
     "name": "stdout",
     "output_type": "stream",
     "text": [
      "Using 4 density scale: Annotations from Radiologist 0:Accuracy is :0.6450511945392492 and cohen kappa is:0.41948143491265166.\n",
      "Using 4 density scale: Annotations from Radiologist 1:Accuracy is :0.6333333333333333 and cohen kappa is:0.3565715649994031.\n",
      "Using 4 density scale: Annotations from Radiologist 2:Accuracy is :0.6483516483516484 and cohen kappa is:0.4021761445288442.\n",
      "Using 4 density scale: Annotations from Radiologist 3:Accuracy is :0.4791666666666667 and cohen kappa is:0.2882562277580071.\n",
      "Using 4 density scale: Annotations from Radiologist 4:Accuracy is :0.43333333333333335 and cohen kappa is:0.1574704288640718.\n",
      "\n",
      "4 Density scale mean accuracy:0.567847235244846, and 95% C.I. (0.4395765622046476, 0.6961179082850445).\n",
      "4 Density scale mean cohen kappa:0.3247911602125956 and 95% C.I. (0.1926608020484431, 0.45692151837674805).\n",
      "4 Density scale - accuracy standard deviation:0.0923992142326619.\n"
     ]
    }
   ],
   "source": [
    "accuracy4=[]\n",
    "kappa4=[]\n",
    "for i in range(5):\n",
    "    new_df = full_df[full_df['radiologist']==i]\n",
    "    y_true_4scale = new_df[\"density\"].values\n",
    "    y_pred_4scale = new_df[\"aidensity\"].values\n",
    "    accuracy4.append(accuracy_score(y_true_4scale, y_pred_4scale))\n",
    "    kappa4.append(cohen_kappa_score(y_true_4scale, y_pred_4scale))\n",
    "    print(f\"Using 4 density scale: Annotations from Radiologist {i}:Accuracy is :{accuracy_score(y_true_4scale, y_pred_4scale)} and cohen kappa is:{cohen_kappa_score(y_true_4scale, y_pred_4scale)}.\")\n",
    "\n",
    "accuracy4CI = stats.t.interval(alpha=0.95, loc=np.mean(accuracy4), df=len(accuracy4)-1, scale=stats.sem(accuracy4)) \n",
    "kappa4CI = stats.t.interval(alpha=0.95, loc=np.mean(kappa4), df=len(kappa4)-1, scale=stats.sem(kappa4)) \n",
    "    \n",
    "print(f\"\\n4 Density scale mean accuracy:{np.mean(accuracy4)}, and 95% C.I. {accuracy4CI }.\") \n",
    "print(f\"4 Density scale mean cohen kappa:{np.mean(kappa4)} and 95% C.I. {kappa4CI }.\")  \n",
    "print(f\"4 Density scale - accuracy standard deviation:{np.std(accuracy4)}.\") \n"
   ]
  },
  {
   "cell_type": "code",
   "execution_count": null,
   "id": "4b11d376",
   "metadata": {},
   "outputs": [],
   "source": []
  },
  {
   "cell_type": "code",
   "execution_count": null,
   "id": "06abdc59",
   "metadata": {},
   "outputs": [],
   "source": []
  }
 ],
 "metadata": {
  "kernelspec": {
   "display_name": "Python 3",
   "language": "python",
   "name": "python3"
  },
  "language_info": {
   "codemirror_mode": {
    "name": "ipython",
    "version": 3
   },
   "file_extension": ".py",
   "mimetype": "text/x-python",
   "name": "python",
   "nbconvert_exporter": "python",
   "pygments_lexer": "ipython3",
   "version": "3.8.8"
  }
 },
 "nbformat": 4,
 "nbformat_minor": 5
}
