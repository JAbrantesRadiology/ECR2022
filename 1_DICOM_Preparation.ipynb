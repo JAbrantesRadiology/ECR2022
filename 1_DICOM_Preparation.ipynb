{
 "cells": [
  {
   "cell_type": "markdown",
   "id": "4b476d04",
   "metadata": {},
   "source": [
    "## Introduction\n",
    "\n",
    "This script will iterate all the original dicom files from the PACS system, extract all the images to a final folder and add the corresponding ID.\n",
    "\n",
    "This serves as the first step in the workflow for AI density analysis of mammography according to the project \"OncoServe: Deploying Deep Learning Models for Breast Cancer Risk Assessment, and Breast Density Assessment.\"\n",
    "\n",
    "Reference: https://github.com/yala/OncoServe_Public - Tool and all associated code provided for under MIT License."
   ]
  },
  {
   "cell_type": "code",
   "execution_count": null,
   "id": "05d01ce1",
   "metadata": {},
   "outputs": [],
   "source": [
    "import os\n",
    "import fnmatch\n",
    "import sys\n",
    "import shutil\n",
    "import json\n",
    "from pydicom import dcmread"
   ]
  },
  {
   "cell_type": "markdown",
   "id": "0e8eeee4",
   "metadata": {},
   "source": [
    "### Set folders and lists"
   ]
  },
  {
   "cell_type": "code",
   "execution_count": null,
   "id": "c75ec680",
   "metadata": {},
   "outputs": [],
   "source": [
    "rootFolderPath = 'G:\\\\mamografiasCHTMAD'\n",
    "targetdir = \"G:\\mamografiaseditadas\"\n",
    "list_of_ids = []"
   ]
  },
  {
   "cell_type": "markdown",
   "id": "5d484749",
   "metadata": {},
   "source": [
    "### Defining relevant functions:"
   ]
  },
  {
   "cell_type": "code",
   "execution_count": null,
   "id": "a2a7453f",
   "metadata": {},
   "outputs": [],
   "source": [
    "def get_processo(filetoread):\n",
    "    ds = dcmread(filetoread, force=True)\n",
    "    elemn = ds[0x0010,0x1000]\n",
    "    processo = elemn.value\n",
    "    return processo"
   ]
  },
  {
   "cell_type": "code",
   "execution_count": null,
   "id": "88a4993c",
   "metadata": {},
   "outputs": [],
   "source": [
    "#Just one dicom file per patient\n",
    "def copyandrename(source,process):\n",
    "    file_finish_copy = targetdir + \"/\" + process + \".dcm\"\n",
    "    shutil.copy(source, file_finish_copy)"
   ]
  },
  {
   "cell_type": "code",
   "execution_count": null,
   "id": "dbe976d0",
   "metadata": {},
   "outputs": [],
   "source": [
    "#All the 4 dicom files per patient, corresponding to both CC and MLO mammography (Left and Right)\n",
    "def safe_copy(source, file_finish_copy):\n",
    "    \"\"\"Safely copy a file to the specified directory. If a file with the same name already \n",
    "    exists, the copied file name is altered to preserve both.\n",
    "\n",
    "    :param str file_path: Path to the file to copy.\n",
    "    :param str out_dir: Directory to copy the file into.\n",
    "    :param str dst: New name for the copied file. If None, use the name of the original\n",
    "        file.\n",
    "    \"\"\"\n",
    "    name = process + \".dcm\"\n",
    "    file_finish_copy = targetdir + \"/\" + process + \".dcm\"\n",
    "    \n",
    "    \n",
    "    if not os.path.exists(file_finish_copy):\n",
    "        shutil.copy(source, file_finish_copy)\n",
    "    else:\n",
    "        base, extension = os.path.splitext(name)\n",
    "        i = 1\n",
    "        while os.path.exists(os.path.join(targetdir, '{}_{}{}'.format(base, i, extension))):\n",
    "            i += 1\n",
    "            if i >3:\n",
    "                return\n",
    "            else:\n",
    "                pass\n",
    "        shutil.copy(source, os.path.join(targetdir, '{}_{}{}'.format(base, i, extension)))"
   ]
  },
  {
   "cell_type": "markdown",
   "id": "7803cfd5",
   "metadata": {},
   "source": [
    "### Iterate all the files and subfolders in the dataset source folder\n",
    "#### Extract the list of exam ID's to provide comparison with the radiologist annotation - ground truth"
   ]
  },
  {
   "cell_type": "code",
   "execution_count": null,
   "id": "7023f23e",
   "metadata": {},
   "outputs": [],
   "source": [
    "for root, dirs, files in os.walk(rootFolderPath):\n",
    "    for filename in files:\n",
    "        if filename == \"DICOMDIR\":\n",
    "            pass\n",
    "        elif filename.endswith(\".ipynb\"):\n",
    "            pass\n",
    "        elif filename.endswith(\".TXT\"):\n",
    "            pass\n",
    "        elif filename.endswith(\".XML\"):\n",
    "            pass\n",
    "        elif filename.endswith(\".json\"):\n",
    "            pass\n",
    "        elif filename.startswith(\"._\"):\n",
    "            pass\n",
    "        elif filename.endswith(''):\n",
    "            source = os.path.join(root, filename)\n",
    "            try:\n",
    "                process = get_processo(os.path.join(root, filename))\n",
    "            except KeyError:\n",
    "                pass\n",
    "            safe_copy(source,process)\n",
    "            list_of_ids.append(process)\n",
    "            \n",
    "        else:\n",
    "            pass"
   ]
  },
  {
   "cell_type": "markdown",
   "id": "22a9f65f",
   "metadata": {},
   "source": [
    "### Extract the list of ID's as a JSON file"
   ]
  },
  {
   "cell_type": "code",
   "execution_count": null,
   "id": "6ddada16",
   "metadata": {},
   "outputs": [],
   "source": [
    "with open('ids.json', 'w', encoding='utf-8') as f:\n",
    "    json.dump(list_of_ids, f, ensure_ascii=False, indent=4)"
   ]
  }
 ],
 "metadata": {
  "kernelspec": {
   "display_name": "Python 3",
   "language": "python",
   "name": "python3"
  },
  "language_info": {
   "codemirror_mode": {
    "name": "ipython",
    "version": 3
   },
   "file_extension": ".py",
   "mimetype": "text/x-python",
   "name": "python",
   "nbconvert_exporter": "python",
   "pygments_lexer": "ipython3",
   "version": "3.8.8"
  }
 },
 "nbformat": 4,
 "nbformat_minor": 5
}
