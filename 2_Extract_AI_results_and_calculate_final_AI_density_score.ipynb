{
 "cells": [
  {
   "cell_type": "markdown",
   "id": "de7771a2",
   "metadata": {},
   "source": [
    "# Introduction\n",
    "\n",
    "We will extract the relevant information after the algorithm analysed all the mammograms in the dataset.\n",
    "Each patient has a total of 4 mammograms. We will take the algorithm final prediction as the most frequent result of the analysis of each mammographic view (the mode)"
   ]
  },
  {
   "cell_type": "code",
   "execution_count": null,
   "id": "99a44de0",
   "metadata": {},
   "outputs": [],
   "source": [
    "import os\n",
    "import fnmatch\n",
    "import sys\n",
    "import shutil\n",
    "import re\n",
    "import pandas as pd\n",
    "import json"
   ]
  },
  {
   "cell_type": "markdown",
   "id": "2d55cbd5",
   "metadata": {},
   "source": [
    "## Data cleaning from the results of the AI density tool"
   ]
  },
  {
   "cell_type": "code",
   "execution_count": null,
   "id": "ca4a835d",
   "metadata": {},
   "outputs": [],
   "source": [
    "#file resulting from the AI density analysis tool\n",
    "file_csv = \"demo.csv\"\n",
    "#list of process numbers extracted from the dataset\n",
    "file_list_of_ids = \"ids.json\"\n",
    "#dataframe resulting from the Radiologists density analysis\n",
    "file_radiologists = \"df_radiologist.json\"\n",
    "#dictionary of density values to map\n",
    "density_values = {\"1\": \"A\", \"2\": \"B\", \"3\":\"C\", \"4\":\"D\"}"
   ]
  },
  {
   "cell_type": "code",
   "execution_count": null,
   "id": "be07a83a",
   "metadata": {},
   "outputs": [],
   "source": [
    "f = open (file_list_of_ids, \"r\")\n",
    "duplicated_list_of_ids = json.loads(f.read())\n",
    "#Remove duplicated ids\n",
    "list_of_ids = [*set(duplicated_list_of_ids)]"
   ]
  },
  {
   "cell_type": "code",
   "execution_count": null,
   "id": "09524621",
   "metadata": {},
   "outputs": [],
   "source": [
    "df = pd.read_csv(file_csv,names=[\"process\",\"aidensity\"])"
   ]
  },
  {
   "cell_type": "code",
   "execution_count": null,
   "id": "3f7fe2c5",
   "metadata": {},
   "outputs": [],
   "source": [
    "df[\"process\"] = df[\"process\"].apply(lambda x: x.lstrip(\"\"\"<_io.BufferedReader name='dataset/\"\"\"))\n",
    "df[\"process\"] = df[\"process\"].apply(lambda x: x.rstrip(\"\"\".dcm'>\"\"\"))"
   ]
  },
  {
   "cell_type": "code",
   "execution_count": null,
   "id": "7cf5e14d",
   "metadata": {},
   "outputs": [],
   "source": [
    "df['aidensity']=df['aidensity'].str.extract(r'(prediction\":.)')\n",
    "df[\"aidensity\"] = df[\"aidensity\"].apply(lambda x: x.lstrip(\"\"\"prediction\":\"\"\"))"
   ]
  },
  {
   "cell_type": "markdown",
   "id": "0f61abd4",
   "metadata": {},
   "source": [
    "## Extracting the results of all the mammographic views and creating the dataframe with the final ai density prediction"
   ]
  },
  {
   "cell_type": "code",
   "execution_count": null,
   "id": "9698cd7a",
   "metadata": {},
   "outputs": [],
   "source": [
    "df_to_transpose = pd.DataFrame([0,0])"
   ]
  },
  {
   "cell_type": "code",
   "execution_count": null,
   "id": "73b0dd75",
   "metadata": {},
   "outputs": [],
   "source": [
    "for i in list_of_ids:\n",
    "    new_df = df.loc[df.process.str.contains(i, na=False)]\n",
    "    mode_to_insert = new_df[\"aidensity\"].mode()[0]\n",
    "    df_to_transpose.insert(0, i, mode_to_insert, True)"
   ]
  },
  {
   "cell_type": "code",
   "execution_count": null,
   "id": "05dfab47",
   "metadata": {},
   "outputs": [],
   "source": [
    "df_ai_densities = df_to_transpose.T\n",
    "df_ai_densities.rename(columns = {0:'aidensity'}, inplace = True)\n",
    "df_ai_densities.drop(df_ai_densities.index[-1], inplace=True)\n",
    "df_ai_densities.drop(columns=1, inplace=True)\n",
    "df_ai_densities.index.name = 'process'"
   ]
  },
  {
   "cell_type": "code",
   "execution_count": null,
   "id": "3da648bc",
   "metadata": {},
   "outputs": [],
   "source": [
    "df_ai_densities = df_ai_densities.replace(density_values)"
   ]
  },
  {
   "cell_type": "code",
   "execution_count": null,
   "id": "e0f13993",
   "metadata": {},
   "outputs": [],
   "source": [
    "print(f\"A total of {df.shape[0]} unique mammograms were analised, resulting in the final density score for {df_ai_densities.shape[0]} unique patients.\")"
   ]
  },
  {
   "cell_type": "markdown",
   "id": "4eb14d04",
   "metadata": {},
   "source": [
    "## Final AI density analysis of all the mammograms of the dataset\n",
    "This data will be compared with the ground truth, to calculate the relevant metrics."
   ]
  },
  {
   "cell_type": "code",
   "execution_count": null,
   "id": "e498ab2f",
   "metadata": {},
   "outputs": [],
   "source": [
    "df_ai_densities.to_json(r'df_ai_densities.json')"
   ]
  }
 ],
 "metadata": {
  "kernelspec": {
   "display_name": "Python 3",
   "language": "python",
   "name": "python3"
  },
  "language_info": {
   "codemirror_mode": {
    "name": "ipython",
    "version": 3
   },
   "file_extension": ".py",
   "mimetype": "text/x-python",
   "name": "python",
   "nbconvert_exporter": "python",
   "pygments_lexer": "ipython3",
   "version": "3.8.8"
  }
 },
 "nbformat": 4,
 "nbformat_minor": 5
}
